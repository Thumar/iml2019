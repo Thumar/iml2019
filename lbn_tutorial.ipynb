{
 "cells": [
  {
   "cell_type": "markdown",
   "metadata": {},
   "source": [
    "\n",
    "# Tutorial: Lorentz Boost Networks\n",
    "\n",
    "#### Physics-inspired Autonomous Feature Engineering ([arXiv:1812.09722](https://arxiv.org/abs/1812.09722))"
   ]
  },
  {
   "cell_type": "code",
   "execution_count": 1,
   "metadata": {},
   "outputs": [
    {
     "name": "stdout",
     "output_type": "stream",
     "text": [
      "eos access: ✗\n"
     ]
    }
   ],
   "source": [
    "import tutorial as tut\n",
    "from lbn import LBN\n",
    "from scinum import Number"
   ]
  },
  {
   "cell_type": "code",
   "execution_count": 2,
   "metadata": {},
   "outputs": [
    {
     "name": "stdout",
     "output_type": "stream",
     "text": [
      "downloading low_gen_train.npz from CERNBox\n"
     ]
    },
    {
     "data": {
      "text/plain": [
       "(828269, 32)"
      ]
     },
     "execution_count": 2,
     "metadata": {},
     "output_type": "execute_result"
    }
   ],
   "source": [
    "data = tut.load_lbn_data()\n",
    "data[\"features\"].shape"
   ]
  },
  {
   "cell_type": "code",
   "execution_count": null,
   "metadata": {},
   "outputs": [],
   "source": [
    "n = Number(0.991, {\"stat\": (0.1, 0.2), \"syst\": (0.23, 0.22)})\n",
    "n"
   ]
  }
 ],
 "metadata": {
  "kernelspec": {
   "display_name": "Python 2",
   "language": "python",
   "name": "python2"
  },
  "language_info": {
   "codemirror_mode": {
    "name": "ipython",
    "version": 2
   },
   "file_extension": ".py",
   "mimetype": "text/x-python",
   "name": "python",
   "nbconvert_exporter": "python",
   "pygments_lexer": "ipython2",
   "version": "2.7.12"
  }
 },
 "nbformat": 4,
 "nbformat_minor": 2
}
