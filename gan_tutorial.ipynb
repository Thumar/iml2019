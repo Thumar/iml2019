{
  "cells": [
    {
      "cell_type": "markdown",
      "metadata": {
        "collapsed": true,
        "pycharm": {
          "name": "#%% md\n"
        }
      },
      "source": "# Tutorial: Generative Adversarial Networks - Advanced Techniques\n## - Jonas Glombitza, RWTH Aachen University, IML 2019, CERN\nThis tutorial is about _generative models_ and especially **Generative Adversarial Networks** (**GANs**).\nIn this tutorial we will implement different types of GANs, which were proposed recently:\n- Vanilla GAN - https://arxiv.org/abs/1406.2661\n- Conditional GAN - https://arxiv.org/abs/1610.09585\n- Wasserstein GAN (WGAN-GP) - https://arxiv.org/abs/1704.00028\n- Spectral Normalization SN-GAN - https://arxiv.org/abs/1802.05957\n\nand learn about further techniques to stabilize the training of GANs. (DCGANs, conditioning of the generator ...).\nTo train our generative models, we will have a look on three different data sets (1 from computer vision, 2 physics data sets)\n- [ CIFAR10 ](https://www.cs.toronto.edu/~kriz/cifar.html)\n- [ Footprints of Cosmic Ray induced Air Showers ](https://git.rwth-aachen.de/DavidWalz/airshower)\n- [ electromagnetic Calorimeter Images (Multi-layer) ](https://doi.org/10.1007/s41781-018-0019-7)\n\nAs framework, we make use of [TensorFlow](https://www.tensorflow.org/):\n- [Keras](https://keras.io/)): Keras API shipped with TensorFlow\n- [TensorFlow-GAN](https://github.com/tensorflow/tensorflow/tree/master/tensorflow/contrib/gan): lightweight library for training GANs\n\n#### Table of contents\n1. [ Basics ](#basics)\n2. [ Generative Adversarial Networks ](#gan)\n   - [ Theory ](#gan_theory)\n   - [ CIFAR10: Example](#gan_code)\n   - [Implementation](#gan_code)\n3. [ Wasserstein GANs ](#wgan)\n   - [ Theory ](#wgan_theory)\n   - [ CIFAR10: Example](#wgan_code)\n   - [ Results](#wgan_result)\n4. [ Spectral Normalization for GANs ](#sngan)\n   - [ Theory ](#sngan_theory)\n   - [ Physics Example: Cosmic Ray induces Air Showers](#sngan_code)\n   - [ Results](#sngan_result)\n5. [ Calorimeter Images](#calgan)\n   - [ Generator conditioning ](#calgan_theory)\n   - [ Physics Example: Calorimeter images](#calgan_code)\n   - [ Results](#calgan_result)\n   \n   \n\u003ca name\u003d\"basics\"\u003e\u003c/a\u003e\n## Basics\n### Generative models\nBefore we jump in to the implementation of several GANs, we need to introduce _Generative Models_.\n\nLet us assume we have a bunch of images which forms the distribution of real images $P_{r}$.\nIn our case (CIFAR10 dataset) the distribution consists of several classes: `horse, airplane, bird, frog, truck, deer, cat, dog, car, ship`.\nInstead of training a classifier to be able to label our data we now would like to generate samples which are \nsimilar to samples in the distributio $P_{r}$ formed by the bunch of images.\nThe clue is, that we would like t generate **new samples** which were **not part** of the dataset, but look really similar.\n \n![CIFAR 10 Image](images/CIFAR10_collection.png)\nSo in a mathematical way, we would like to approximate the real distribution $P_{r}$ with a model $P_{\\theta}$.\nWith this *generative* model, we then would like to generate new samples out of our approximation $x \\sim P_{\\theta}$.\n\n\u003ca name\u003d\"gan\"\u003e\u003c/a\u003e\n### Generative Adversarial Networks\nThe basic idea of **G**enerative **A**dversarial **N**etworks (GANs) is to train a **generator network** to learn the underlying distribution.\u003csup\u003e[1](#myfootnote1)\u003c/sup\u003e\nIn other words, we would like to design a generator machine, we can feed with noise and which outputs us nice samples following\nthe distribution of real images $P_{r}$, but which were not part of the training dataset.\nSo in our case, we would like to generate new samples of airplanes, cars, dogs etc..\n \n![Generator Machine](images/generator_machine.png)\n\nIn our setup we use a neural network $G(z)$ as generator machine. \nThe generator network $G(z)$ gets as input a noise vector $z$ sampled from a muldimensional noise distribution $z \\sim p(z)$.\nThis space of $z$ is often called the latent space. The generator should then map the noise vector $z$ into the data space (the space where our\nreal data samples lie) and output new samples/images $\\tilde{x} \\sim G(z)$. We would like to have these $\\tilde{x} very similar to\nthe real samples $x \\sim P_{r}$.\n\nFor the training of our generator network we need feedback, if the generated samples are of good or bad quality.\nBecause a classical supervised loss is incapable for giving a good feedback to the generator network, it is trained in an unsupervised manner.\nSo instead of using \"mean squared error\" or similar metrics, the performance measure is given by a **second** _adversarial_ neural network, which is called _discriminator_.\nIn the vanilla GAN setup, the way of measuring the quality of the generated sampels should be given by a classifier which is trained\nto classify between fake `class\u003d0` (generated by our generator network) and real images `class\u003d1` (from our bunch of images).\n\nThe clue is now, that the generator should try to fool the discriminator.\nSo, by adapting the generator weights the discriminator should fail to identify the fake images, and should output `class\u003d1` (real images)\nwhen generated images are input. The crucial thing is, that we can directly get this feedback when stacking the generator on top\nof the discirminator to build our GAN framework. Because both are neural networks, we just can propagate the gradient \nthrough the discriminator to the generator, which can then adapts it weights to generate samples of better quality.\nIn simple words, the generator should change the weights in a way to generate images which hold features the discriminator identifies\nas features from real images.\nThis is the fascinating idea of _adversarial training_.\n\n\n![Figurative Sketch: Adversarial Training](images/adversarial_training_sketch.png)\nIn a very figurative sense, the discriminator could be seen as painter which is able to classify between\nreal images and fake images, because he knows a little bit about colors and art. We now would like to build a generator machine\nwhich produce nice photographs.\nThe idea is, to fool the painter (discriminator) by changing the parameters of our generator machine.\nBecause the painter has knowledge how \"real images\" look like, the feedback of him helps to let our generaot machine generate\nimages of better quality.\n\n\u003ca name\u003d\"gan_theory\"\u003e\u003c/a\u003e\n#### Adversarial training\n\nOur adversarial framework consists out of 2 networks:\n- the generator network $G$ (learn the mapping from nois to images)\n- the discriminator $D$ network (measures the image quality, by discriminating if the images are true `class\u003d1` or fake `class\u003d0`)\n\nThe training procedure of the framework is as follows:\n    1. Discriminator update: Train the discriminator to classify between fake and real images\n    2. Generator update: Train the generator to fool the generator\n    -  Repeat from beginning\n\n\n\n##### Discriminator update\nSample noise from the latent space $z \\sim p(z)$\nGenerate new fake samples by feed the noise in to the generator $\\tilde{x} \\sim G(z)$\nSample real samples from the real distribution $ x \\sim P_{r}$\nTrain the discriminator using the binary cross entropy by changing the weights $w$:\n\n$ \\mathcal{L}_{Dis} \u003d \\min{ -\\mathbb{E}_{\\mathbf{x} \\sim p_{data}(\\mathbf{x})} [log(D_w(\\mathbf{x}))] - \\mathbb{E}_{\\mathbf{z} \\sim p_z(\\mathbf{z})} [log(1-D_w(G_{\\theta}(\\mathbf{z})))]}$\n\n##### Generator update\nSample noise from the latent space $z \\sim p(z)$\nGenerate new fake samples by feed the noise in to the generator $\\tilde{x} \\sim G(z)$\nFreeze the weights of the discriminator $w$\nTrain the generator to fool the discriminator, by adapting the weights $\\theta$:\n\n$ \\mathcal{L}_{Gen} \u003d \\max{ -\\mathbb{E}_{\\mathbf{z} \\sim p_z(\\mathbf{z})} [log(1-D_w(G_{\\theta}(\\mathbf{z})))]}$\n\n\n \n\n\n### Architectures\nThe generator maps from the latent space into the data space.\nHence the input should be a 1D-vector of noise variables and the output should have image dimensions.\nIn this case the output will have the dimension `(32, 32, 3)`. (3 color channels: RGB)\n\n[Radford, Metz, and Chintala](https://arxiv.org/abs/1511.06434) proposed stable architectures for generator and discriminator networks.\nImportant DCGAN Guidelines:\n- Replace fully connected layers with convolutional layers\n- Do not use pooling layers, use striding instead\n- Make use of batch normalization in generator and discriminator to stabilize training\u003csup\u003e[2](#myfootnote2)\u003c/sup\u003e\n- Use LeakyRelu activation in discriminator for better feedback\u003csup\u003e[3](#myfootnote3)\u003c/sup\u003e\n- Use a pyramidal topolgy in the generator by using transposed convolutions, to support a simple and strucutred latent space\n\n![Pyramidal topolgy of the genrator as proposed by Radford, Metz, and Chintala](images/DCGAN_generator.png)\n\n[image credit: [DCGAN publication](https://arxiv.org/abs/1511.06434)]\n\n\n--- Footnotes\n\n\u003ca name\u003d\"myfootnote1\"\u003e1\u003c/a\u003e: In contrast to e.g. _Variational Autoencoders_ the idea is not to \"directly fit the distribution but to train a generator which approximates the real disitribution directly.\nRemember that in VAEs we learn a mapping in to the latent space where we can \"fit\" a gaussian. Therefore, after the training we can just\ngenerate new samples by sampling from the latent space using the Gaussian prior.\nBecause most problems are to complex, the Gaussian is not able to capture all modes, this leads to blurry images which is\na well known problem for VAE generated samples.\n\n\u003ca name\u003d\"myfootnote2\"\u003e2\u003c/a\u003e: Batch normalization is very important here. Due to the normalization of the gradients, it stabilizes the training.\nAs we will see later normalizing the gradients deliverd by the discriminator, is crucial.\n\n\u003ca name\u003d\"myfootnote3\"\u003e3\u003c/a\u003e: Using ReLU in the discriminator woul lead to sparase gradient (no negative gradient could propagate back).\nUsing LeakyReLU provides better feedback.\n\n\n\u003ca name\u003d\"gan_code\"\u003e\u003c/a\u003e\n## Implementation vanilla GAN\nLet us start to implement the basic framework in keras, to gain insight of the training procedure\n\n"
    },
    {
      "cell_type": "code",
      "execution_count": 1,
      "metadata": {
        "pycharm": {
          "is_executing": false,
          "metadata": false,
          "name": "#%%\n"
        }
      },
      "outputs": [
        {
          "name": "stdout",
          "output_type": "stream",
          "text": [
            "Keras version 2.2.4-tf\n",
            "Python version 3.6.7\n"
          ]
        }
      ],
      "source": [
        "import numpy as np\n",
        "import tensorflow as tf\n",
        "from plotting import plot_images\n",
        "from tensorflow import keras\n",
        "print(\"Keras version\", keras.__version__)\n",
        "from platform import python_version\n",
        "print(\"Python version\", python_version())"
      ]
    },
    {
      "cell_type": "markdown",
      "metadata": {
        "pycharm": {
          "metadata": false,
          "name": "#%% md\n"
        }
      },
      "source": [
        "First of all we have to load our training data."
      ]
    },
    {
      "cell_type": "markdown",
      "metadata": {
        "pycharm": {
          "metadata": false,
          "name": "#%% md\n"
        }
      },
      "source": [
        "Furthermore, we can have a look on the first 16 images of the CIFAR10 dataset.\n",
        "For the later training it is from big advantage to rescale our data to [-1,1]."
      ]
    },
    {
      "cell_type": "code",
      "execution_count": 2,
      "metadata": {
        "pycharm": {
          "is_executing": false,
          "metadata": false,
          "name": "#%%\n"
        }
      },
      "outputs": [
        {
          "data": {
            "image/png": "[encoded data removed]",
            "text/plain": [
              "\u003cFigure size 720x720 with 16 Axes\u003e"
            ]
          },
          "metadata": {
            "needs_background": "light"
          },
          "output_type": "display_data"
        }
      ],
      "source": [
        "from matplotlib import pyplot as plt\n",
        "\n",
        "def plot_images(images, labels\u003dNone, figsize\u003d(10, 10), fname\u003dNone):\n",
        "    \"\"\" Plot some images \"\"\"\n",
        "    n_examples \u003d len(images)\n",
        "    dim \u003d np.ceil(np.sqrt(n_examples))\n",
        "    plt.figure(figsize\u003dfigsize)\n",
        "    class_names \u003d [\u0027airplane\u0027,\u0027automobile\u0027,\u0027bird\u0027,\u0027cat\u0027,\u0027deer\u0027, \u0027dog\u0027,\u0027frog\u0027,\u0027horse\u0027,\u0027ship\u0027,\u0027truck\u0027]\n",
        "    for i, img in enumerate(images):\n",
        "        plt.subplot(dim, dim, i + 1)\n",
        "        if img.shape[-1] \u003d\u003d 3:\n",
        "            img \u003d img.astype(np.uint8)\n",
        "            plt.imshow(img)\n",
        "            if labels is not None:\n",
        "                plt.suptitle(class_names[i])\n",
        "        else:\n",
        "            img \u003d np.squeeze(img)\n",
        "            plt.imshow(img, cmap\u003dplt.cm.Greys)\n",
        "        plt.axis(\u0027off\u0027)\n",
        "    plt.tight_layout()\n",
        "    plt.show()\n",
        "\n",
        "(images, y_train), (x_test, y_test) \u003d tf.keras.datasets.cifar10.load_data()\n",
        "plot_images(images[:16])\n",
        "x_train \u003d 2 * (images / 255. - 0.5)\n"
      ]
    },
    {
      "cell_type": "markdown",
      "metadata": {
        "pycharm": {
          "metadata": false
        }
      },
      "source": [
        "Now we can design our generator and discriminator network.\n",
        "Let us begin with a straight forward implementation of the generator network, following the DCGAN guidelines.\n",
        "As noise input we sample from a `latent_dim \u003d 64` dimensional latent space."
      ]
    },
    {
      "cell_type": "code",
      "execution_count": 3,
      "metadata": {
        "pycharm": {
          "metadata": false,
          "name": "#%%\n"
        }
      },
      "outputs": [
        {
          "name": "stdout",
          "output_type": "stream",
          "text": [
            "Generator\n",
            "WARNING:tensorflow:From /usr/local/lib/python3.6/dist-packages/tensorflow/python/ops/resource_variable_ops.py:435: colocate_with (from tensorflow.python.framework.ops) is deprecated and will be removed in a future version.\n",
            "Instructions for updating:\n",
            "Colocations handled automatically by placer.\n",
            "_________________________________________________________________\n",
            "Layer (type)                 Output Shape              Param #   \n",
            "\u003d\u003d\u003d\u003d\u003d\u003d\u003d\u003d\u003d\u003d\u003d\u003d\u003d\u003d\u003d\u003d\u003d\u003d\u003d\u003d\u003d\u003d\u003d\u003d\u003d\u003d\u003d\u003d\u003d\u003d\u003d\u003d\u003d\u003d\u003d\u003d\u003d\u003d\u003d\u003d\u003d\u003d\u003d\u003d\u003d\u003d\u003d\u003d\u003d\u003d\u003d\u003d\u003d\u003d\u003d\u003d\u003d\u003d\u003d\u003d\u003d\u003d\u003d\u003d\u003d\n",
            "input_1 (InputLayer)         (None, 64)                0         \n",
            "_________________________________________________________________\n",
            "dense (Dense)                (None, 2048)              133120    \n",
            "_________________________________________________________________\n",
            "reshape (Reshape)            (None, 2, 2, 512)         0         \n",
            "_________________________________________________________________\n",
            "conv2d_transpose (Conv2DTran (None, 4, 4, 512)         6554112   \n",
            "_________________________________________________________________\n",
            "batch_normalization_v1 (Batc (None, 4, 4, 512)         2048      \n",
            "_________________________________________________________________\n",
            "conv2d_transpose_1 (Conv2DTr (None, 8, 8, 256)         3277056   \n",
            "_________________________________________________________________\n",
            "batch_normalization_v1_1 (Ba (None, 8, 8, 256)         1024      \n",
            "_________________________________________________________________\n",
            "conv2d_transpose_2 (Conv2DTr (None, 16, 16, 128)       819328    \n",
            "_________________________________________________________________\n",
            "batch_normalization_v1_2 (Ba (None, 16, 16, 128)       512       \n",
            "_________________________________________________________________\n",
            "conv2d_transpose_3 (Conv2DTr (None, 32, 32, 64)        204864    \n",
            "_________________________________________________________________\n",
            "batch_normalization_v1_3 (Ba (None, 32, 32, 64)        256       \n",
            "_________________________________________________________________\n",
            "conv2d_transpose_4 (Conv2DTr (None, 32, 32, 64)        102464    \n",
            "_________________________________________________________________\n",
            "batch_normalization_v1_4 (Ba (None, 32, 32, 64)        256       \n",
            "_________________________________________________________________\n",
            "conv2d (Conv2D)              (None, 32, 32, 3)         1731      \n",
            "\u003d\u003d\u003d\u003d\u003d\u003d\u003d\u003d\u003d\u003d\u003d\u003d\u003d\u003d\u003d\u003d\u003d\u003d\u003d\u003d\u003d\u003d\u003d\u003d\u003d\u003d\u003d\u003d\u003d\u003d\u003d\u003d\u003d\u003d\u003d\u003d\u003d\u003d\u003d\u003d\u003d\u003d\u003d\u003d\u003d\u003d\u003d\u003d\u003d\u003d\u003d\u003d\u003d\u003d\u003d\u003d\u003d\u003d\u003d\u003d\u003d\u003d\u003d\u003d\u003d\n",
            "Total params: 11,096,771\n",
            "Trainable params: 11,094,723\n",
            "Non-trainable params: 2,048\n",
            "_________________________________________________________________\n",
            "None\n"
          ]
        }
      ],
      "source": [
        "layers \u003d keras.layers\n",
        "\n",
        "print(\u0027Generator\u0027)\n",
        "latent_dim \u003d 64\n",
        "generator_input \u003d layers.Input(shape\u003d[latent_dim])\n",
        "x \u003d layers.Dense(2 * 2 * 512, activation\u003d\u0027relu\u0027)(generator_input)\n",
        "x \u003d layers.Reshape([2, 2, 512])(x)\n",
        "x \u003d layers.Conv2DTranspose(512, (5, 5), strides\u003d(2, 2), padding\u003d\u0027same\u0027, activation\u003d\u0027relu\u0027)(x)\n",
        "x \u003d layers.BatchNormalization()(x)\n",
        "x \u003d layers.Conv2DTranspose(256, (5, 5), strides\u003d(2, 2), padding\u003d\u0027same\u0027, activation\u003d\u0027relu\u0027)(x)\n",
        "x \u003d layers.BatchNormalization()(x)\n",
        "x \u003d layers.Conv2DTranspose(128, (5, 5), strides\u003d(2, 2), padding\u003d\u0027same\u0027, activation\u003d\u0027relu\u0027)(x)\n",
        "x \u003d layers.BatchNormalization()(x)\n",
        "x \u003d layers.Conv2DTranspose(64, (5, 5), strides\u003d(2, 2), padding\u003d\u0027same\u0027, activation\u003d\u0027relu\u0027)(x)\n",
        "x \u003d layers.BatchNormalization()(x)\n",
        "x \u003d layers.Conv2DTranspose(64, (5, 5), padding\u003d\u0027same\u0027, activation\u003d\u0027relu\u0027)(x)\n",
        "x \u003d layers.BatchNormalization()(x)\n",
        "x \u003d layers.Conv2D(3, (3, 3), padding\u003d\u0027same\u0027, activation\u003d\u0027tanh\u0027)(x)\n",
        "generator \u003d keras.models.Model(inputs\u003dgenerator_input, outputs\u003dx)\n",
        "print(generator.summary())"
      ]
    },
    {
      "cell_type": "markdown",
      "metadata": {
        "pycharm": {
          "metadata": false,
          "name": "#%% md\n"
        }
      },
      "source": [
        "As we can see we build a generator with ~ 10 M parameters, which maps from the latent space `(64,)` to the data space `(32,32,3)`.\n",
        "Notice, that using `tanh` as last activation is important, because we scaled the data from [-1,1].\n"
      ]
    },
    {
      "cell_type": "code",
      "execution_count": 4,
      "metadata": {
        "pycharm": {
          "is_executing": false,
          "metadata": false,
          "name": "#%%\n"
        }
      },
      "outputs": [
        {
          "name": "stdout",
          "output_type": "stream",
          "text": [
            "Discriminator\n",
            "WARNING:tensorflow:From /usr/local/lib/python3.6/dist-packages/tensorflow/python/keras/layers/core.py:143: calling dropout (from tensorflow.python.ops.nn_ops) with keep_prob is deprecated and will be removed in a future version.\n",
            "Instructions for updating:\n",
            "Please use `rate` instead of `keep_prob`. Rate should be set to `rate \u003d 1 - keep_prob`.\n",
            "_________________________________________________________________\n",
            "Layer (type)                 Output Shape              Param #   \n",
            "\u003d\u003d\u003d\u003d\u003d\u003d\u003d\u003d\u003d\u003d\u003d\u003d\u003d\u003d\u003d\u003d\u003d\u003d\u003d\u003d\u003d\u003d\u003d\u003d\u003d\u003d\u003d\u003d\u003d\u003d\u003d\u003d\u003d\u003d\u003d\u003d\u003d\u003d\u003d\u003d\u003d\u003d\u003d\u003d\u003d\u003d\u003d\u003d\u003d\u003d\u003d\u003d\u003d\u003d\u003d\u003d\u003d\u003d\u003d\u003d\u003d\u003d\u003d\u003d\u003d\n",
            "input_2 (InputLayer)         (None, 32, 32, 3)         0         \n",
            "_________________________________________________________________\n",
            "conv2d_1 (Conv2D)            (None, 16, 16, 64)        1792      \n",
            "_________________________________________________________________\n",
            "leaky_re_lu (LeakyReLU)      (None, 16, 16, 64)        0         \n",
            "_________________________________________________________________\n",
            "conv2d_2 (Conv2D)            (None, 8, 8, 128)         131200    \n",
            "_________________________________________________________________\n",
            "leaky_re_lu_1 (LeakyReLU)    (None, 8, 8, 128)         0         \n",
            "_________________________________________________________________\n",
            "conv2d_3 (Conv2D)            (None, 4, 4, 256)         524544    \n",
            "_________________________________________________________________\n",
            "leaky_re_lu_2 (LeakyReLU)    (None, 4, 4, 256)         0         \n",
            "_________________________________________________________________\n",
            "conv2d_4 (Conv2D)            (None, 2, 2, 512)         2097664   \n",
            "_________________________________________________________________\n",
            "leaky_re_lu_3 (LeakyReLU)    (None, 2, 2, 512)         0         \n",
            "_________________________________________________________________\n",
            "flatten (Flatten)            (None, 2048)              0         \n",
            "_________________________________________________________________\n",
            "dropout (Dropout)            (None, 2048)              0         \n",
            "_________________________________________________________________\n",
            "dense_1 (Dense)              (None, 2)                 4098      \n",
            "\u003d\u003d\u003d\u003d\u003d\u003d\u003d\u003d\u003d\u003d\u003d\u003d\u003d\u003d\u003d\u003d\u003d\u003d\u003d\u003d\u003d\u003d\u003d\u003d\u003d\u003d\u003d\u003d\u003d\u003d\u003d\u003d\u003d\u003d\u003d\u003d\u003d\u003d\u003d\u003d\u003d\u003d\u003d\u003d\u003d\u003d\u003d\u003d\u003d\u003d\u003d\u003d\u003d\u003d\u003d\u003d\u003d\u003d\u003d\u003d\u003d\u003d\u003d\u003d\u003d\n",
            "Total params: 2,759,298\n",
            "Trainable params: 2,759,298\n",
            "Non-trainable params: 0\n",
            "_________________________________________________________________\n",
            "None\n"
          ]
        }
      ],
      "source": [
        "print(\u0027Discriminator\u0027)\n",
        "discriminator_input \u003d layers.Input(shape\u003d[32, 32, 3])\n",
        "x \u003d layers.Conv2D(64, (3, 3), strides\u003d(2, 2), padding\u003d\u0027same\u0027)(discriminator_input)\n",
        "x \u003d layers.LeakyReLU(0.2)(x)\n",
        "x \u003d layers.Conv2D(128, (4, 4), padding\u003d\u0027same\u0027, strides\u003d(2, 2))(x)\n",
        "x \u003d layers.LeakyReLU(0.2)(x)\n",
        "x \u003d layers.Conv2D(256, (4, 4), padding\u003d\u0027same\u0027, strides\u003d(2, 2))(x)\n",
        "x \u003d layers.LeakyReLU(0.2)(x)\n",
        "x \u003d layers.Conv2D(512, (4, 4), padding\u003d\u0027same\u0027, strides\u003d(2, 2))(x)\n",
        "x \u003d layers.LeakyReLU(0.2)(x)\n",
        "x \u003d layers.Flatten()(x)\n",
        "x \u003d layers.Dropout(0.25)(x)\n",
        "x \u003d layers.Dense(2, activation\u003d\u0027softmax\u0027, kernel_regularizer\u003dkeras.regularizers.l1_l2(0.0004))(x)\n",
        "discriminator \u003d keras.models.Model(inputs\u003ddiscriminator_input, outputs\u003dx)\n",
        "print(discriminator.summary())\n"
      ]
    },
    {
      "cell_type": "markdown",
      "metadata": {
        "pycharm": {
          "is_executing": false,
          "metadata": false,
          "name": "#%% md\n"
        }
      },
      "source": [
        "Furthermore, we created our discriminator which classifies the input images of shape `(32,32,3)` into `(2,)` classes (fake, real).\n",
        "\n",
        "Now, we can compile our model by choosing an optimizer and loss function."
      ]
    },
    {
      "cell_type": "code",
      "execution_count": 5,
      "metadata": {
        "pycharm": {
          "is_executing": false,
          "metadata": false,
          "name": "#%%\n"
        }
      },
      "outputs": [],
      "source": [
        "d_opt \u003d keras.optimizers.Adam(lr\u003d2e-4, beta_1\u003d0.5, decay\u003d0.0005)\n",
        "discriminator.compile(loss\u003d\u0027binary_crossentropy\u0027, optimizer\u003dd_opt, metrics\u003d[\u0027accuracy\u0027])\n"
      ]
    },
    {
      "cell_type": "markdown",
      "metadata": {
        "pycharm": {
          "metadata": false,
          "name": "#%% md\n"
        }
      },
      "source": [
        "After creating our discriminator model, we have to build and compile the GAN framework by stacking  the discriminator on top of the generator.\n"
      ]
    },
    {
      "cell_type": "code",
      "execution_count": 6,
      "metadata": {
        "pycharm": {
          "is_executing": false,
          "metadata": false,
          "name": "#%%\n"
        }
      },
      "outputs": [
        {
          "name": "stdout",
          "output_type": "stream",
          "text": [
            "\n",
            "Generative Adversarial Network\n",
            "_________________________________________________________________\n",
            "Layer (type)                 Output Shape              Param #   \n",
            "\u003d\u003d\u003d\u003d\u003d\u003d\u003d\u003d\u003d\u003d\u003d\u003d\u003d\u003d\u003d\u003d\u003d\u003d\u003d\u003d\u003d\u003d\u003d\u003d\u003d\u003d\u003d\u003d\u003d\u003d\u003d\u003d\u003d\u003d\u003d\u003d\u003d\u003d\u003d\u003d\u003d\u003d\u003d\u003d\u003d\u003d\u003d\u003d\u003d\u003d\u003d\u003d\u003d\u003d\u003d\u003d\u003d\u003d\u003d\u003d\u003d\u003d\u003d\u003d\u003d\n",
            "input_3 (InputLayer)         (None, 64)                0         \n",
            "_________________________________________________________________\n",
            "model (Model)                (None, 32, 32, 3)         11096771  \n",
            "_________________________________________________________________\n",
            "model_1 (Model)              (None, 2)                 2759298   \n",
            "\u003d\u003d\u003d\u003d\u003d\u003d\u003d\u003d\u003d\u003d\u003d\u003d\u003d\u003d\u003d\u003d\u003d\u003d\u003d\u003d\u003d\u003d\u003d\u003d\u003d\u003d\u003d\u003d\u003d\u003d\u003d\u003d\u003d\u003d\u003d\u003d\u003d\u003d\u003d\u003d\u003d\u003d\u003d\u003d\u003d\u003d\u003d\u003d\u003d\u003d\u003d\u003d\u003d\u003d\u003d\u003d\u003d\u003d\u003d\u003d\u003d\u003d\u003d\u003d\u003d\n",
            "Total params: 13,856,069\n",
            "Trainable params: 13,854,021\n",
            "Non-trainable params: 2,048\n",
            "_________________________________________________________________\n",
            "None\n"
          ]
        }
      ],
      "source": [
        "print(\u0027\\nGenerative Adversarial Network\u0027)\n",
        "gan_input \u003d layers.Input(shape\u003d[latent_dim])\n",
        "gan_output \u003d discriminator(generator(gan_input))\n",
        "GAN \u003d keras.models.Model(gan_input, gan_output)\n",
        "print(GAN.summary())\n"
      ]
    },
    {
      "cell_type": "markdown",
      "metadata": {
        "pycharm": {
          "metadata": false,
          "name": "#%% md\n"
        }
      },
      "source": [
        "After building the framework, we have to compile the framework.\n",
        "But before we have to freeze the weights of the discriminator. (Remember that for training the generators we have to fix the discriminator,\n",
        "we want to fool the discriminator by drawing nice images, not by making our discriminator a bad classifier).\n"
      ]
    },
    {
      "cell_type": "code",
      "execution_count": 7,
      "metadata": {
        "pycharm": {
          "is_executing": false,
          "metadata": false,
          "name": "#%%\n"
        }
      },
      "outputs": [],
      "source": [
        "def make_trainable(model, trainable):\n",
        "    \"\"\" Function to freeze / unfreeze a model \"\"\"\n",
        "    model.trainable \u003d trainable\n",
        "    for l in model.layers:\n",
        "        l.trainable \u003d trainable\n",
        "\n",
        "g_opt \u003d keras.optimizers.Adam(lr\u003d2e-4, beta_1\u003d0.5, decay\u003d0.0005)\n",
        "make_trainable(discriminator, False)  # freezes the discriminator when training the GAN\n",
        "GAN.compile(loss\u003d\u0027binary_crossentropy\u0027, optimizer\u003dg_opt)\n"
      ]
    },
    {
      "cell_type": "markdown",
      "metadata": {
        "pycharm": {
          "metadata": false,
          "name": "#%% md\n"
        }
      },
      "source": [
        "Note that after we compiled a model, calling `make_trainable` will have no effect toll compiling the model again.\n",
        "\n",
        "We now can design the training loop of the framework"
      ]
    },
    {
      "cell_type": "code",
      "execution_count": 8,
      "metadata": {
        "pycharm": {
          "is_executing": false,
          "metadata": false,
          "name": "#%%\n"
        }
      },
      "outputs": [],
      "source": [
        "def train_gan(epochs\u003d0, batch_size\u003d64):\n",
        "    for epoch in range(epochs):\n",
        "    \n",
        "        # Plot some fake images\n",
        "        noise \u003d np.random.randn(batch_size, latent_dim)\n",
        "        generated_images \u003d 255. * (generator.predict(noise) / 2. + 0.5)\n",
        "        plot_images(generated_images[:16])  # plot image\n",
        "    \n",
        "        perm \u003d np.random.choice(50000, size\u003d50000, replace\u003d\u0027False\u0027)\n",
        "    \n",
        "        for i in range(50000//batch_size):\n",
        "    \n",
        "            # Create a mini-batch of data (X: real images + fake images, y: corresponding class vectors)\n",
        "            image_batch \u003d x_train[perm[i*batch_size:(i+1)*batch_size], :, :, :]    # real images\n",
        "            noise_gen \u003d np.random.randn(batch_size, latent_dim)\n",
        "            generated_images \u003d generator.predict(noise_gen)                     # generated images\n",
        "            X \u003d np.concatenate((image_batch, generated_images))\n",
        "            y \u003d np.zeros([2*batch_size, 2])   # class vector\n",
        "            y[0:batch_size, 1] \u003d 1\n",
        "            y[batch_size:, 0] \u003d 1\n",
        "    \n",
        "            # Train the discriminator on the mini-batch\n",
        "            d_loss, d_acc \u003d discriminator.train_on_batch(X, y)\n",
        "            losses[\"d\"].append(d_loss)\n",
        "            discriminator_acc.append(d_acc)\n",
        "    \n",
        "            # Create a mini-batch of data (X: noise, y: class vectors pretending that these produce real images)\n",
        "            noise_tr \u003d np.random.randn(batch_size, latent_dim)\n",
        "            y2 \u003d np.zeros([batch_size, 2])\n",
        "            y2[:, 1] \u003d 1  # Fooling: We need to take the label 1, (real) because Keras will minimize the cross entropy in our model,\n",
        "                          # Switching the label to real here, will let us maximize as required . \n",
        "\n",
        "    \n",
        "            # Train the generator on the mini-batch\n",
        "            g_loss \u003d GAN.train_on_batch(noise_tr, y2)\n",
        "            losses[\"g\"].append(g_loss)\n",
        "            print(discriminator_acc[-1])\n"
      ]
    },
    {
      "cell_type": "markdown",
      "metadata": {
        "pycharm": {
          "metadata": false,
          "name": "#%% md\n"
        }
      },
      "source": [
        "We now just could train our network by calling `train_gan(epochs\u003d100)`.\n",
        "\n",
        "###### WARNING:tensorflow:Discrepancy between trainable weights and collected trainable weights, did you set `model.trainable` without calling `model.compile` after ?\n",
        "-\u003e This warning is harmless and just occured, because we compiled the discriminator and later froze its weights for the generator training."
      ]
    },
    {
      "cell_type": "code",
      "execution_count": 20,
      "metadata": {
        "pycharm": {
          "is_executing": true,
          "metadata": false,
          "name": "#%%\n"
        }
      },
      "outputs": [
        {
          "name": "stdout",
          "output_type": "stream",
          "text": [
            "WARNING:tensorflow:No training configuration found in save file: the model was *not* compiled. Compile it manually.\n"
          ]
        },
        {
          "data": {
            "image/png": "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\u003d\u003d\n",
            "text/plain": [
              "\u003cFigure size 720x720 with 16 Axes\u003e"
            ]
          },
          "metadata": {
            "needs_background": "light"
          },
          "output_type": "display_data"
        }
      ],
      "source": [
        "pretrained_generator \u003d keras.models.load_model(\"models/vanilla_GAN/generator.h5\")\n",
        "noise \u003d np.random.randn(16, 64)\n",
        "generated_images \u003d 255. * (pretrained_generator.predict(noise) / 2. + 0.5)\n",
        "plot_images(generated_images)  # plot images\n"
      ]
    },
    {
      "cell_type": "markdown",
      "metadata": {
        "pycharm": {
          "metadata": false,
          "name": "#%% md\n"
        }
      },
      "source": "### Results\n\nAs we can see the results are very noisy and the generator seems to output really similar image samples of realtively bad quality.\nIn order not to judge too quickly , you should remember that generating images is a quiet complicated task. 32x32x3 \u003d 3072 dimensional!\nThe dataset holds 10 classes, with complicated structures. [MNIST](http://yann.lecun.com/exdb/mnist/) is comparatively much much easier.\nWith randomly sampling from noise, you will never be able to generate a sample looking like any of the images, it will just be noise.\n\nThe model is only able to produce rough details and local regions of smooth colors, capturing only a single mode.\n\nFor increasing the generation performance we need to understand what\u0027s wrong with our GAN training.\n\n\n### Problems training GANs\nIn general, training GANs is a very challenging task and needs a lot of fine tuning compared to supervised training of deep networks.\nThe reason for this is, that we do not have a stationary minimization problem any more, but a two networks playing a minmax game.\nThe updates of the the generator will highly affect the next step of the dicriminator update and the other way round.\nBeside \n- Non-stationary minimization problem. Do not use optimizers with high momentum rates\n- Mode collapsing\n- Vanishing gradients\n- Metric\n\n#### Mode collapsing - \"Helvetica Scenario\"\nAfter the training, the generator outputs samples from a restricted phase space only.\nThis is heavily connected to the control of the discriminator gradients. When the discriminator covers only a part of the modes in data,\nthe feedback will only be informative for this modes. This heavily drives the generator to collapse towards this mode,\nwhich forces the discriminator to focus even more of this specific mode.\n\n\u003cimg src\u003d\"images/mnist_mode_collapse.png\" alt\u003d\"drawing\" width\u003d\"487\"/\u003e\n\nTo solve this one can try to use:\n- Batch history (add in the persent batch of generated samples, samples generated by the model in earlier iterations)\n- Add noise into the framework\n- Conditioning of GANs - change to semi supverised training by adding label information to generator and/or discriminator\n    - CGAN : Condition generator to produce specific sample, [Mirza, Osindero](https://arxiv.org/abs/1411.1784)\n    - ACGAN: let the discriminator learn conditional probability, [Odena, Olah, Shlenset](https://arxiv.org/abs/1610.09585)\n    \n\u003cimg src\u003d\"\u003cimg src\u003d\"images/vanishing_gradients.gif\" alt\u003d\"vanishing gradient\" width\u003d\"600\"/\u003e\n\" alt\u003d\"drawing\" width\u003d\"600\"/\u003e\n\n\n\n#### Vanishing gradients\nFor training a reasonable generator, the feedback of the discriminator is crucial.\nTherefore, one could think, that training the discrimnator more often than the generator could improve the training,\nbecause the feedback would be much more precise.\nThe problem is, that for this scenario the feedback of the discriminator is almost zero.\n\n\n![vanishing gradients](images/vasnishing_gradients.gif)\n[credit. Emanuele Sansone]\n\n\nWhen calculating the gradient for the generator update provided by a converged discriminator one obtains vanishing feedback:\n \n$\\lim_{D \\rightarrow 0} \\frac{\\partial{}}{\\partial{\\theta}} \\log(1-D(G_{\\theta}(z))) \u003d \\lim_{f \\rightarrow -\\infty} \\frac{\\partial{}}{\\partial{\\theta}}\\log\\left( 1- \\frac{1}{1+e^{-f_{\\theta}}} \\right) \\approx 0$\n\nHence, having a strong discriminator will hinter the training.\nIn order to prevent that, we used regularization (dropout + l1 + l2)  in the discriminator.\n\n#### Meaningless Loss Metric\nBy inspecting the loss of discriminator and generator, we can see that they do not correlate with the image quality.\n(the discriminator is not trained to convergence). Hence, it is quiet hard to say if our framework reached a stable equilibrium.\n\n\n\n## Wasserstein GANs\nTo overcome the issue of the meaningless metric and vanishing gradients.\n[Arjovsky, Chintala and Bottou](https://arxiv.org/abs/1701.07875) proposed to used the Wasserstein-1 as metric.\nUsing the Wasserstein distance as metric has several advantages in comparison to the old minmax loss.\nThe crucial feature of the Wasserstein distance is that it provides a meaningful distance measure even to distributions are disjunct.\nBut before coming to the crucial difference let us try to understand the Wasserstein distance.\n\n### Wasserstein or Earth Mover\u0027s distance\nWassertsein-1 or the earth mover\u0027s distance describes the **minimal cost** to transform a distribution $P_{\\theta}$ into another disitribution $P_{r}$ and vice versa.\nThe mathematical defintion is as follows:\n\n$\\mathcal{D}_W(P_r|| P_\\theta)\u003d \\inf_{\\gamma \\in \\Pi(P_r, P_\\theta)} \\mathbb{E}_{(x,y) \\sim \\gamma}[||x-y||]$\n\nThe Wasserstein distance can be understood using a very figurative example.\nLet us assume, we have two heaps of earth in the garden and would like to know, what is the minimum *work* we need to transform one heap of earth into the other one.\nIn other words, how many shovels of earth we have to transport which distance. (Work: mass * distance)\nThe optimal transport plan for this transformation, is given by the Wasserstein distance. \n\n\u003cimg src\u003d\"images/earth_movers_distance.png\" alt\u003d\"drawing\" width\u003d\"600\"/\u003e\n\n### Improved training of GANs\nWhen interpreting the training of GANs as divergence minimization, the training of vanilla GANs is similar (assuming an optimal discriminator) to minimizing the *Jensen-Shannon divergence* (JS divergence).\nThe JS divergence do not provided a meaningful distance measure for disjoint distributions (no overlap).\nIn contrast, the Wasserstein distance does (in the figurative example both heaps of earth are disjoint)\nEspecially in the beginning of the training, both distributions are disjoint. Because the discriminator can very easily discriminate perfectly between real and fake images.\nFurthermore, because of the easy formulation of the distance measure (mass * distance) we can expect smooth gradients. \n\n### Approximation of the Wasserstein distance using a critic\nUsing the Kantorovich-Rubinstein duality we are able to construct the Wasserstein distance ourselves and the loss becomes:\n\n$\\mathcal{L}_{WGAN} \u003d \\min_{ D_w \\in Lip_1} \\mathbb{E}_{x \\sim P_r}[D_w(x)] - \\mathbb{E}_{\\tilde{x} \\sim P_\\theta}{[D_w(\\tilde{x})]}$\n\nwhere $D_w(x)$ is the discriminator network (in the WGAN setup called *critic* because the network is not trained to discriminate anymore).\nBasically the distance/loss $\\mathcal{L}_{WGAN}$ is formed, by subtracting the output of the critic applied on the fake samples from the critic applied on the real samples. \nIt is important, that  $D \\in Lip_1$ denotes, that the function the critic network should approximate is a 1-Lipschitz function.\nA 1-Lipschitz function is a function, which has a slope $m \\leq 1$ everywhere.\nTherefore, the critic network has to carry this Lipschitz constrain\u003csup\u003e[4](#myfootnote4)\u003c/sup\u003e also.\nThe are 2 possible constraints to construct the Wasserstein distance:\n- Use weight clipping, which is less preferred\n- Gradient penalty\n\n[Gulrajani et. al.](https://arxiv.org/abs/1704.00028) proposed the **Gradient penalty** to construct the Lipschitz constrain by extending the loss $\\mathcal{L}_{WGAN}$ with:\n\n$\\mathcal{L}_{GP} \u003d \\lambda\\; \\mathbb{E}_{\\hat{u} \\sim P_{\\hat{u}}}[(||\\nabla_{\\hat{u}}D_w(\\hat{u})||_2-1)^2]$\n\nwhere $\\lambda$ is a hyperparameter to scale the loss and $\\hat{u}\u003d\\epsilon x + (1-\\epsilon)\\tilde{x}\\;,0 \\leq \\epsilon \\leq 1$ is randomly sampled along straight lines between pairs of data and fake samples, with\nIn simple words, the gradient in the discriminator is forced to have norm $1$\u003csup\u003e[6](#myfootnote6)\u003c/sup\u003e everywhere between the distribution of real and fake samples.\nImplementing this \"objective\" makes explicitly clear, that the WGAN will not suffer from vanishing gradients.\nThis are great news, now we can and **should** train the critic network to **convergence**, which will give us non vanishing \nand detailed feedback.\n\n--- Footnotes\n\n\u003ca name\u003d\"myfootnote4\"\u003e4\u003c/a\u003e: Easy interpretation: We need a constraint to train the discriminator to convergence, otherwise\n the discriminator could focus on one feature which differs between real and fake samples and won\u0027t converge\n\n\u003ca name\u003d\"myfootnote5\"\u003e5\u003c/a\u003e: Weight clamping will heavily reduce the capacity of the discriminator which is unfavourable.\n\n\u003ca name\u003d\"myfootnote6\"\u003e6\u003c/a\u003e: One could complain that by constraining the critic network to provide gradients with excatly norm $1$\nis not excatly the same as required by the Lipschitz constraint, which is right sided only $m\\ leq 1$. It turns out that\nthe both sided performs slighty better than the right sided gradient penalty. To understand this issue, one have to understande\nGAN training more in a way of gradient control/normalization. (See SN-GAN)\n \n### Implementation of improved Wasserstein GANs - WGAN-GP (conditioned)\nAfter the short introduction into WGANs, let us try to implement our first own Wassertsein GAN using tf.contrib.GAN.\nThis high-level library will make our life much easier.\n"
    },
    {
      "cell_type": "code",
      "execution_count": null,
      "metadata": {
        "pycharm": {
          "is_executing": false,
          "metadata": false,
          "name": "#%%\n"
        }
      },
      "outputs": [],
      "source": [
        "import tensorflow as tf\n",
        "import numpy as np\n",
        "from plotting import plot_images\n",
        "layers \u003d tf.layers\n",
        "print(\"TensorFlow version\", tf.__version__)\n"
      ]
    },
    {
      "cell_type": "markdown",
      "metadata": {
        "pycharm": {
          "metadata": false,
          "name": "#%% md\n"
        }
      },
      "source": [
        "Let us begin to build our data pipeline, which will provide us with new data samples during the training.\n",
        "First we need to define our data generator.\n",
        "The data generator should output real samples (input for the discriminator) and noise (input for the generator)\n",
        "The variable LATENT_DIM defines the dimensionality of the latent space of the generator. (The noise distribution we sample from).\n",
        "\n",
        "Additionally, we will provide our generator and discriminator a label, to condition and stabilize our training process.\n",
        "These type of GANs are called conditioned or supervised. [Conditional GANs](https://arxiv.org/abs/1610.09585)"
      ]
    },
    {
      "cell_type": "code",
      "execution_count": null,
      "metadata": {
        "pycharm": {
          "is_executing": false,
          "metadata": false,
          "name": "#%%\n"
        }
      },
      "outputs": [],
      "source": [
        "def data_generator(LATENT_DIM):\n",
        "    while True:\n",
        "        (x_train, y_train), (x_test, y_test) \u003d tf.keras.datasets.cifar10.load_data()\n",
        "        labels \u003d y_train # .astype(np.int32)\n",
        "        nsamples \u003d x_train.shape[0]\n",
        "        images \u003d 2 * (x_train / 255. - 0.5)\n",
        "        images \u003d images.astype(np.float32)\n",
        "        noise \u003d np.random.randn(nsamples, LATENT_DIM).reshape(nsamples, LATENT_DIM)\n",
        "        idx \u003d np.random.permutation(nsamples)\n",
        "        noise \u003d noise[idx]\n",
        "        images \u003d images[idx]\n",
        "        labels \u003d labels[idx]\n",
        "        for i in range(nsamples):\n",
        "            yield ((noise[i], labels[i]), (images[i]))"
      ]
    },
    {
      "cell_type": "markdown",
      "metadata": {
        "pycharm": {
          "metadata": false
        }
      },
      "source": [
        "Let us now check if our generator is working"
      ]
    },
    {
      "cell_type": "code",
      "execution_count": null,
      "metadata": {
        "pycharm": {
          "is_executing": false,
          "metadata": false,
          "name": "#%%\n"
        }
      },
      "outputs": [],
      "source": [
        "import itertools\n",
        "generator_output \u003d np.array(list(itertools.islice(data_generator(64), 16)))\n",
        "test_images \u003d 255. * (generator_output[:,1] / 2. + 0.5)\n",
        "plot_images(test_images[:16])\n"
      ]
    },
    {
      "cell_type": "markdown",
      "metadata": {
        "pycharm": {
          "metadata": false,
          "name": "#%% md\n"
        }
      },
      "source": [
        "For training GANs we need to further define our generator and discriminator network.\n",
        "We start by defining our generator network, which should map from our noise space into the space of out images (LATENT_DIM --\u003e IMAGE_DIM)"
      ]
    },
    {
      "cell_type": "code",
      "execution_count": null,
      "metadata": {
        "pycharm": {
          "is_executing": false,
          "metadata": false,
          "name": "#%%\n"
        }
      },
      "outputs": [],
      "source": [
        "LATENT_DIM \u003d 64  # dimension of the latent space\n",
        "\n",
        "def generator_fn(inputs, latent_dim\u003dLATENT_DIM):\n",
        "    x, labels \u003d inputs\n",
        "    x \u003d tf.concat([x, labels], axis\u003d-1)\n",
        "    x \u003d layers.Dense(4 * 4 * 256, activation\u003d\u0027relu\u0027, input_shape\u003d(latent_dim + 1,))(x)  #\n",
        "    x \u003d tf.reshape(x, shape\u003d[BATCH_SIZE, 4, 4, 256])\n",
        "    x \u003d layers.Conv2DTranspose(256, (4, 4), strides\u003d(2, 2), padding\u003d\u0027same\u0027, activation\u003d\u0027relu\u0027)(x)\n",
        "    x \u003d layers.BatchNormalization()(x)\n",
        "    x \u003d layers.Conv2DTranspose(128, (4, 4), strides\u003d(2, 2), padding\u003d\u0027same\u0027, activation\u003d\u0027relu\u0027)(x)\n",
        "    x \u003d layers.BatchNormalization()(x)\n",
        "    x \u003d layers.Conv2DTranspose(64, (4, 4), strides\u003d(2, 2), padding\u003d\u0027same\u0027, activation\u003d\u0027relu\u0027)(x)\n",
        "    x \u003d layers.BatchNormalization()(x)\n",
        "    x \u003d layers.Conv2D(3, (3, 3), padding\u003d\u0027same\u0027, activation\u003d\u0027tanh\u0027)(x)\n",
        "    return x"
      ]
    },
    {
      "cell_type": "markdown",
      "metadata": {
        "pycharm": {
          "metadata": false
        }
      },
      "source": [
        "After defining our generator network we need now to implement our discriminator.\n",
        "The task of the discriminator is to measure the similarity between the fake images (output of the generator) and the real images.\n",
        "So, the network maps from the image space into a 1D space where we can measure the \u0027distance\u0027 between the distributions of the real and generated images.  (IMAGE_DIM --\u003e 1)"
      ]
    },
    {
      "cell_type": "code",
      "execution_count": null,
      "metadata": {
        "pycharm": {
          "is_executing": false,
          "metadata": false,
          "name": "#%%\n"
        }
      },
      "outputs": [],
      "source": [
        "def discriminator_fn(x, gen_in, drop_rate\u003d0.25):\n",
        "    \"\"\" Discriminator network \"\"\"\n",
        "    noise, labels \u003d gen_in\n",
        "    x \u003d layers.Conv2D(64, (3, 3), padding\u003d\u0027same\u0027, input_shape\u003d(32, 32, 3))(x)\n",
        "    x \u003d tf.nn.leaky_relu(x, 0.2)\n",
        "    labels \u003d tf.tile(tf.reshape(labels, [BATCH_SIZE, 1, 1, 1]), [1, 32, 32, 1])\n",
        "    x \u003d tf.concat([x, labels], axis\u003d-1)\n",
        "    x \u003d tf.contrib.layers.layer_norm(x)\n",
        "    x \u003d layers.Conv2D(64, (4, 4), padding\u003d\u0027same\u0027, strides\u003d(2, 2))(x)\n",
        "    x \u003d tf.contrib.layers.layer_norm(x)\n",
        "    x \u003d tf.nn.leaky_relu(x, 0.2)\n",
        "    x \u003d layers.Conv2D(128, (3, 3), padding\u003d\u0027same\u0027)(x)\n",
        "    x \u003d tf.contrib.layers.layer_norm(x)\n",
        "    x \u003d tf.nn.leaky_relu(x, 0.2)\n",
        "    x \u003d layers.Conv2D(128, (4, 4), padding\u003d\u0027same\u0027, strides\u003d(2, 2))(x)\n",
        "    x \u003d tf.contrib.layers.layer_norm(x)\n",
        "    x \u003d tf.nn.leaky_relu(x, 0.2)\n",
        "    x \u003d layers.Conv2D(256, (3, 3), padding\u003d\u0027same\u0027)(x)\n",
        "    x \u003d tf.contrib.layers.layer_norm(x)\n",
        "    x \u003d tf.nn.leaky_relu(x, 0.2)\n",
        "    x \u003d layers.Conv2D(256, (4, 4), padding\u003d\u0027same\u0027, strides\u003d(2, 2))(x)\n",
        "    x \u003d tf.contrib.layers.layer_norm(x)\n",
        "    x \u003d tf.nn.leaky_relu(x, 0.2)\n",
        "    x \u003d layers.Conv2D(512, (3, 3), padding\u003d\u0027same\u0027)(x)\n",
        "    x \u003d tf.nn.leaky_relu(x, 0.2)\n",
        "    x \u003d layers.Flatten()(x)\n",
        "    x \u003d layers.Dense(1)(x)\n",
        "    return x"
      ]
    },
    {
      "cell_type": "markdown",
      "metadata": {
        "pycharm": {
          "metadata": false,
          "name": "#%% md\n"
        }
      },
      "source": [
        "\n",
        "Note that in WGANs we can not make use of batch normalization in the critic, because the gradient penalty is calculated between sample pairs.\n",
        "Therefore, [layer normalization](https://arxiv.org/abs/1607.06450) is a great alternative for normalization in the critic.\n",
        "\n",
        "So let use the [Gradient Penalty](https://arxiv.org/abs/1704.00028):\n",
        "By penalizing the gradient to be 1, we enforce the lipschitz constraint needed to construct Wasserstein using the [Kantorovich-Rubinstein duality](https://cedricvillani.org/wp-content/uploads/2012/08/preprint-1.pdf)\n",
        "GP is the hyperparameter to weight the strength of the Lipschitz constrain.\n",
        "We can make use of the preliminary implemented `wasserstein_loss` which evaluates $\\mathcal{L}_{WGAN}$, **without** enforcing a Lipschitz constrain.\n",
        "For this reason, we have to add the gradient penalty to the loss.\n",
        " "
      ]
    },
    {
      "cell_type": "code",
      "execution_count": null,
      "metadata": {
        "pycharm": {
          "is_executing": false,
          "metadata": false,
          "name": "#%%\n"
        }
      },
      "outputs": [],
      "source": [
        "def discriminator_loss(model, add_summaries\u003dTrue):\n",
        "\n",
        "    loss \u003d tf.contrib.gan.losses.wasserstein_discriminator_loss(model, add_summaries\u003dadd_summaries)\n",
        "    gp_loss \u003d GP * tf.contrib.gan.losses.wasserstein_gradient_penalty(model, epsilon\u003d1e-10, one_sided\u003dTrue, add_summaries\u003dadd_summaries)\n",
        "    loss +\u003d gp_loss\n",
        "\n",
        "    if add_summaries:\n",
        "        tf.summary.scalar(\u0027discriminator_loss\u0027, loss)\n",
        "\n",
        "    return loss"
      ]
    },
    {
      "cell_type": "markdown",
      "metadata": {
        "pycharm": {
          "metadata": false,
          "name": "#%% md\n"
        }
      },
      "source": [
        "After defining our objective, we can choose our training parameters"
      ]
    },
    {
      "cell_type": "code",
      "execution_count": null,
      "metadata": {
        "pycharm": {
          "is_executing": false,
          "metadata": false,
          "name": "#%%\n"
        }
      },
      "outputs": [],
      "source": [
        "BATCH_SIZE \u003d 32   # number of samples fed into the framework in each iteration\n",
        "GEN_LR \u003d 0.0002   # learning rate of the generator\n",
        "DIS_LR \u003d 0.0002   # learning rate of the discriminator\n",
        "ITER \u003d 1000       # framework iterations\n",
        "GP \u003d 10           # factor to scale the gradient penalty (higher means larger enforcing the Lipschitz constrain)\n",
        "N_CRIT \u003d 5        # number of critic iterations per generator iterations."
      ]
    },
    {
      "cell_type": "markdown",
      "metadata": {
        "pycharm": {
          "metadata": false,
          "name": "#%% md\n"
        }
      },
      "source": [
        "\n",
        "Now we can very easily implement our framework as estimator using tf.gan, this will heavily simplify our training procedure.\n"
      ]
    },
    {
      "cell_type": "code",
      "execution_count": null,
      "metadata": {
        "pycharm": {
          "is_executing": false,
          "metadata": false,
          "name": "#%%\n"
        }
      },
      "outputs": [],
      "source": [
        "tfgan \u003d tf.contrib.gan\n",
        "gan_estimator \u003d tfgan.estimator.GANEstimator(\n",
        "    \"models/WGAN_GP\",\n",
        "    generator_fn\u003dgenerator_fn,\n",
        "    discriminator_fn\u003ddiscriminator_fn,\n",
        "    generator_loss_fn\u003dtfgan.losses.wasserstein_generator_loss,\n",
        "    discriminator_loss_fn\u003ddiscriminator_loss,\n",
        "    generator_optimizer\u003dtf.train.AdamOptimizer(GEN_LR, 0.5),\n",
        "    discriminator_optimizer\u003dtf.train.AdamOptimizer(DIS_LR, 0.5),\n",
        "    get_hooks_fn\u003dtfgan.get_sequential_train_hooks(tfgan.GANTrainSteps(1, N_CRIT)),\n",
        "    config\u003dtf.estimator.RunConfig(save_summary_steps\u003d10, keep_checkpoint_max\u003d1, save_checkpoints_steps\u003d200),\n",
        "    use_loss_summaries\u003dTrue)"
      ]
    },
    {
      "cell_type": "markdown",
      "metadata": {
        "pycharm": {
          "metadata": false
        }
      },
      "source": [
        "To train our estimator we can create a TensorflowDataset out of our data generator.\n",
        "The function outputs a batches of our dataset."
      ]
    },
    {
      "cell_type": "code",
      "execution_count": null,
      "metadata": {
        "pycharm": {
          "metadata": false,
          "name": "#%%\n"
        }
      },
      "outputs": [],
      "source": [
        "def batched_dataset(BATCH_SIZE, LATENT_DIM, generator_fn):\n",
        "    Dataset \u003d tf.data.Dataset.from_generator(\n",
        "        lambda: generator_fn(LATENT_DIM), output_types\u003d((tf.float32, tf.float32), (tf.float32)),\n",
        "        output_shapes\u003d((tf.TensorShape((LATENT_DIM,)), tf.TensorShape((1,))), (tf.TensorShape((32, 32, 3)))))\n",
        "    return Dataset.batch(BATCH_SIZE)"
      ]
    },
    {
      "cell_type": "markdown",
      "metadata": {
        "pycharm": {
          "metadata": false
        }
      },
      "source": [
        "Let us train our framework using our gan_estimator and our data_pipeline.\n",
        "\n",
        "*We skip the training here and import a pretrained estimator*"
      ]
    },
    {
      "cell_type": "code",
      "execution_count": null,
      "metadata": {
        "pycharm": {
          "is_executing": false,
          "metadata": false,
          "name": "#%%\n"
        }
      },
      "outputs": [],
      "source": [
        "gan_estimator.train(lambda: batched_dataset(BATCH_SIZE, LATENT_DIM, generator), max_steps\u003d1000)"
      ]
    },
    {
      "cell_type": "markdown",
      "metadata": {
        "pycharm": {
          "metadata": false,
          "name": "#%% md\n"
        }
      },
      "source": [
        "\n",
        "To test the conditioning of the labels we can just build a sorted generator, and generate samples.\n"
      ]
    },
    {
      "cell_type": "code",
      "execution_count": null,
      "metadata": {
        "pycharm": {
          "metadata": false,
          "name": "#%%\n"
        }
      },
      "outputs": [],
      "source": [
        "from plotting import plot_cond_images\n",
        "\n",
        "def sorted_generator(LATENT_DIM):\n",
        "    while True:\n",
        "        nsamples \u003d 50000\n",
        "        (x_train, y_train), (x_test, y_test) \u003d tf.keras.datasets.cifar10.load_data()\n",
        "        labels \u003d y_train\n",
        "        nsamples \u003d x_train.shape[0]\n",
        "        images \u003d 2 * (x_train / 255. - 0.5)\n",
        "        images \u003d images.astype(np.float32)\n",
        "        noise \u003d np.random.randn(nsamples, LATENT_DIM).reshape(nsamples, LATENT_DIM)\n",
        "        labels \u003d np.expand_dims(np.tile(np.arange(10), 5000), axis\u003d-1)\n",
        "        for i in range(nsamples):\n",
        "            yield ((noise[i], labels[i]), (images[i]))\n",
        "\n",
        "result \u003d gan_estimator.predict(lambda: batched_dataset(BATCH_SIZE, LATENT_DIM, sorted_generator))\n",
        "images \u003d []\n",
        "for i, image in zip(range(30), result):\n",
        "    images.append(255 * (image / 2. + 0.5))\n",
        "plot_cond_images(images)\n"
      ]
    },
    {
      "cell_type": "markdown",
      "metadata": {
        "pycharm": {
          "metadata": false,
          "name": "#%% md\n"
        }
      },
      "source": [
        "\n\u003ca name\u003d\"wgan_results\"\u003e\u003c/a\u003e\n### Results\n\n![WGAN_GP samples](models/WGAN_GP/cond_WGAN.gif)\n\n\nWe can now inspect the loss of the WGAN.\n\nAs we can see, the gradient penalty is convering towards zero! This are great news, that means our critic is able to give\ngood estimate of the Wasserstein distance.\n\n\u003cimg src\u003d\"models/WGAN_GP/GP_loss.svg\" alt\u003d\"Gradient penalty * 10\" width\u003d\"800\"/\u003e\n\nIf we look at the critic loss we can see a convergence towards 0. (Note that due to our setup the critic gives a negative estimate of Wasserstein-1.)\nThis are really great new, because now we can have a feeling what our generator is doing during the training\nHence we have an convergence of the Wasserstein metric, we can expect good results.\n\nSo let\u0027s have a look on the final samples.\n\n\u003cimg src\u003d\"models/WGAN_GP/critic_loss.svg\" alt\u003d\"critic loss\" width\u003d\"800\"/\u003e\n\n\n\n\n\u003ca name\u003d\"sngan\"\u003e\u003c/a\u003e\n## Spectral Normalization for Generative Adversarial Networks - SN-GANs\n\n\n### Gradient Penalty in terms of normalization \nTo understand why SN-GANs are working, ones have to interpret the Gradient Penalty in a little bit different way.\nThe *Gradient Penalty* was introduced to estimate the Wasserstein distance between the distribution\nof real and fake samples using the _critic_ network. That was desirable when interpreting GAN training in terms of divergence minimization,\nbecause the Wasserstein distance is a much more suitable distance measure for disjoint distributions.\nAn other way to review the gradient penalty is in a way somehow to normalization/ regularization.\nRemember, that for training vanilla GANs, using regularization and normalization (noise, regularizer, Batch Normalizatin) was crucial\nfor obtaining reasonable results.\n\nTo overcome the issue of *vanishing gradients* already in [Goodfellow et al.](https://arxiv.org/abs/1406.2661) an alternative\nloss was proposed, which is known as _label switching_ (because for implementation you just have to switch the labels).\n\n$ \\mathcal{L}_{NS, Gen} \u003d  -\\mathbb{E}_{\\mathbf{z} \\sim p_z(\\mathbf{z})} [log(D(G_{\\theta}(\\mathbf{z})))]$\n\nThe gradients of the discriminator do not vanish anymore, but can provide very instable updates. [Arjovsky and Bottou](https://arxiv.org/abs/1701.04862)\nshowed that the provided gradients for a noisy discriminator follows a cauchy distribution (infinite expectation and variance).\nIn a more figurative sense, samples which lie outside of the support of the real and fake images will be very noisy and can blow\nup massively which disturbs the training.\nTherefore, penalizing large gradients in the discriminator is from major importance.\nThese considerations explain, why GANs using the \"nonsaturating loss\" and the gradient penalty instead of _Wasserstein_ + GP\nare an alternative and stable GAN setup.\n\n\u003ca name\u003d\"sngan_theory\"\u003e\u003c/a\u003e\n### Spectral Normalization\nThe observation that stabilizing the gradient is a suitable way to train NSGANs (non saturating GANs), leads\nto idea to implement the Lipschitz constrain in a much more direct way. (Remember, we have to update the critic several times\nto get good feedback for ther generator).\n[Miyato, Kataoka, Koyama, Yoshida](https://arxiv.org/abs/1802.05957) porposed to do this, by normalizing the discirminator weights using the spectral norm.\n\n#### Spectral norm\n\nLet us remember the definition of the spectral norm:\n\n$\\sigma(\\mathbf{W}) \u003d ||\\mathbf{W}||_{2} \u003d \\max_{x\\neq 0} \\frac{||\\mathbf{W}x||_2}{||x||_2} \u003d \\max_{||x||_2\u003d1} ||\\mathbf{W}x||_2$\nwhich is figuratively speaking, the spectral norm is the maximum stretch factor of unit vector $x$ after multiplication with matrix $W$.\n\n\u003cimg src\u003d\"images/streched_vector.png\" alt\u003d\"drawing by Quartl - wikipedia\" width\u003d\"300\"/\u003e\n\nLet us now express the Lipschitz norm using the spectral norm:\n\n$||D(x)||_{\\mathrm{Lip}} \u003d \\sup_{x} \\sigma(\\nabla_x D(x))\u003d  \\sup_{x} \\sigma(\\nabla_x Wx) \u003d \\sigma(W)$\n \nFor enforcing a similar Lipschitz constrain as used in WGAN-GP $||D(x)||_{\\mathrm{Lip}} \\leq 1$ we can just normalize the weights $W$\nusing: \n\n$\\mathbf{W}_{SN}\u003d\\frac{\\mathbf{W}}{\\sigma(\\mathbf{W})}$\n\nBecause calulating the spectral norm can be quiet time consuming, the proposed approach is to use a fast approximation of the spectral norm\nusing the _power iteration method_.\n\nNote that this type of normalization is different then typical regularization like L1 or L2, because using spectral normalization we are **not** adding an\nadditional penalty term to the objective.\n\nIn a figurative sense, just think of the normalization of the SN-GAN, as referee to control the gradient.\nOur discriminator now getas as input a vector $f$ of features. In the first layer the weight matrix $W$ is multiplied with this vector $f$.\n(normal transformation in fully connected layers).\nNow, we constrain the weight matrix $W$ with the spectral norm. Hence, no transformations with a stretching factor larger than 1\nis allowed (just see the image of the spectral norm for an easy understanding). These normalization helps to prevent that\nthe layer focus on a specific feature (direction) only.\nThis helps to control the gradients of the discriminator outside distribution of real and fake samples and prevents mode collapsing.\n\n\n\u003ca name\u003d\"sngan_code\"\u003e\u003c/a\u003e\n## Spectral Normalization GANs for Cosmic Ray induced Air Showers\n\n\nAfter dealing with the CIFAR dataset let us now tackle the **first physics dataset** with GANs:\na dataset of cosmic ray induced air showers.\nWhen ultra-high energy cosmic rays (UHECRs) penetrate the atmosphere of the earth, they interact with the air molecules and \nparticle cascades are created. For air showers induced by UHECRs (energies \u003e 10 EeV) the footprint on the Earth\u0027s surface\nis in the order of tens km².\nThe dataset contains footprints of air showers measured by observatories like the [Pierre Auger Observatory](https://www.auger.org/)\nand induced by comsic rays between 1 - 100 EeV and was used to generate signal patterns using Wasserstein GANs [Comput Softw Big Sci (2018) 2: 4.](https://link.springer.com/article/10.1007%2Fs41781-018-0008-x)\nThe dataset is generated using a parametrized simulation, and described in [Astropart. Phys. 97 (2017) 46](https://www.sciencedirect.com/science/article/pii/S0927650517302219?via%3Dihub),\nadditionally [you can download the code](https://git.rwth-aachen.de/DavidWalz/airshower)\n\nNote that several things changed, after switching the dataset from photographs to physics:\n\n|Type| Signal Patterns (Calorimeter images)        |  Pictures           |\n| :------------- :| :------------- :|:-------------:|\n| Channels | many, up to layers tens of layers   | 3 (RGB) |\n| Resolution | relatively low (20 x 20) | high resolution (higher than 1000 x 1000)    |\n| Pixel range | several magnitudes, **logarithmic**  | 0-255, **linear**|\n| Distribution pixels | sparse, high local correlations | coherent, high local and global correlations |\n\nEspecially the logarithmic distribution of signals and the sparsity offer a new challenge.\n\nThe SN-GAN is a nice alternative to the Wasserstein GAN, by \"encoding\" the Lipschitz constriant directly in the weights of\nthe discriminator.\nFor this reason, let us implement our first SN-GAN.\n\n## Implementation of SN-GAN\n\nFirst of all we need the basic imports:"
      ]
    },
    {
      "cell_type": "code",
      "execution_count": null,
      "metadata": {
        "pycharm": {
          "is_executing": false,
          "metadata": false,
          "name": "#%%\n"
        }
      },
      "outputs": [],
      "source": [
        "import tensorflow as tf\n",
        "import numpy as np\n",
        "layers \u003d tf.layers\n",
        "tfgan \u003d tf.contrib.gan\n"
      ]
    },
    {
      "cell_type": "markdown",
      "metadata": {
        "pycharm": {
          "metadata": false,
          "name": "#%% md\n"
        }
      },
      "source": "After dealing with the CIFAR dataset let us now tackle the **first physics dataset** with GANs:\na dataset of cosmic ray induced air showers.\nWhen ultra-high energy cosmic rays (UHECRs) penetrate the atmosphere of the earth, they interact with the air molecules and \nparticle cascades are created. For air showers induced by UHECRs (energies \u003e 10 EeV) the footprint on the Earth\u0027s surface\nis in the order of tens km².\nThe dataset contains footprints of air showers measured by observatories like the [Pierre Auger Observatory](https://www.auger.org/)\nand induced by comsic rays between 1 - 100 EeV and was used to generate signal patterns using Wasserstein GANs [Comput Softw Big Sci (2018) 2: 4.](https://link.springer.com/article/10.1007%2Fs41781-018-0008-x)\nThe dataset is generated using a parametrized simulation, and described in [Astropart. Phys. 97 (2017) 46](https://www.sciencedirect.com/science/article/pii/S0927650517302219?via%3Dihub),\nadditionally [you can download the code](https://git.rwth-aachen.de/DavidWalz/airshower)\n\nWe can again build our data pipeline using a generator and tf.datasets\n"
    },
    {
      "cell_type": "code",
      "execution_count": null,
      "metadata": {
        "pycharm": {
          "is_executing": false,
          "metadata": false,
          "name": "#%%\n"
        }
      },
      "outputs": [],
      "source": [
        "LATENT_DIM \u003d 512\n",
        "\n",
        "def cr_batched_dataset(BATCH_SIZE, LATENT_DIM, generator_fn):\n",
        "    Dataset \u003d tf.data.Dataset.from_generator(\n",
        "        lambda: generator_fn(LATENT_DIM), output_types\u003d(tf.float32, tf.float32),\n",
        "        output_shapes\u003d(tf.TensorShape((LATENT_DIM,)), tf.TensorShape((9, 9, 1))))\n",
        "    return Dataset.batch(BATCH_SIZE)\n",
        "\n",
        "\n",
        "def cr_data_generator(LATENT_DIM):\n",
        "    while True:\n",
        "        file \u003d np.load(\"data/airshower_footprints.npz\")\n",
        "        footprints \u003d file[\u0027shower_maps\u0027]\n",
        "        nsamples \u003d footprints.shape[0]\n",
        "        noise \u003d np.random.randn(nsamples, LATENT_DIM).reshape(nsamples, LATENT_DIM)\n",
        "        idx \u003d np.random.permutation(nsamples)\n",
        "        noise \u003d noise[idx]\n",
        "        footprints \u003d footprints[idx]\n",
        "        for i in range(nsamples):\n",
        "            yield (noise[i], footprints[i])\n"
      ]
    },
    {
      "cell_type": "markdown",
      "metadata": {
        "pycharm": {
          "metadata": false,
          "name": "#%% md\n"
        }
      },
      "source": [
        "Let us check the pipeline and plot a few air shower footprints"
      ]
    },
    {
      "cell_type": "code",
      "execution_count": null,
      "metadata": {
        "pycharm": {
          "is_executing": false,
          "metadata": false,
          "name": "#%%\n"
        }
      },
      "outputs": [],
      "source": [
        "from plotting import plot_multiple_footprints\n",
        "import itertools\n",
        "\n",
        "test_footprints \u003d np.array(list(itertools.islice(cr_data_generator(0), 16)))[:, 1]\n",
        "plot_multiple_footprints(test_footprints)\n",
        "\n"
      ]
    },
    {
      "cell_type": "markdown",
      "metadata": {
        "pycharm": {
          "metadata": false,
          "name": "#%% md\n"
        }
      },
      "source": "To generate air shower footprints we now can start to implement our generator and discriminator.\n"
    },
    {
      "cell_type": "code",
      "execution_count": null,
      "metadata": {
        "pycharm": {
          "is_executing": false,
          "metadata": false,
          "name": "#%%\n"
        }
      },
      "outputs": [],
      "source": "LATENT_DIM\u003d80\n\ndef generator_fn_cr(x, latent_dim\u003dLATENT_DIM):\n    x \u003d layers.Dense(1 * 1 * 256, activation\u003d\u0027relu\u0027, input_shape\u003d(latent_dim,))(x)  #\n    x \u003d tf.reshape(x, shape\u003d[BATCH_SIZE, 1, 1, 256])\n    x \u003d layers.Conv2DTranspose(256, (3, 3), strides\u003d(3, 3), padding\u003d\u0027same\u0027, activation\u003d\u0027relu\u0027)(x)\n    x \u003d layers.BatchNormalization()(x)\n    x \u003d layers.Conv2DTranspose(128, (3, 3), strides\u003d(3, 3), padding\u003d\u0027same\u0027, activation\u003d\u0027relu\u0027)(x)\n    x \u003d layers.BatchNormalization()(x)\n    x \u003d layers.Conv2DTranspose(64, (3, 3), padding\u003d\u0027same\u0027, activation\u003d\u0027relu\u0027)(x)\n    x \u003d layers.BatchNormalization()(x)\n    x \u003d layers.Conv2D(64, (3, 3), padding\u003d\u0027same\u0027, activation\u003d\u0027relu\u0027)(x)\n    x \u003d layers.BatchNormalization()(x)\n    x \u003d layers.Conv2D(1, (3, 3), padding\u003d\u0027same\u0027, kernel_initializer\u003dtf.initializers.random_uniform(minval\u003d0, maxval\u003d2.), activation\u003d\u0027relu\u0027)(x)\n    return x\n "
    },
    {
      "cell_type": "markdown",
      "metadata": {
        "pycharm": {
          "metadata": false
        }
      },
      "source": [
        "This generator just follows the typical DCGAN structure using transposed convolutions and maps from `(laten_dim,)` to footprints\n",
        "with shape`(9,9,1)`.\n",
        "\n",
        "Note that in the last layer we need to have a \u0027ReLUs\u0027 activation, as the footprints are very sparse.\n",
        "In the early stage of the training, this can lead to dying ReLUs and sparse gradients, hence we can initalize the\n",
        "bias vector to 0 and the weights between [0,2] to overcome this issue.\n",
        "\n",
        "Thereafter, we can build our discriminator. Here, we need to implement spectral normalization for our layers.\n",
        "\n",
        "### Implementation of the Spectral norm\n",
        "The implementation of the spectral norm is relatively straight forward, we just have to control the weights in the respective layer.\n",
        "Hence, we have to wrap the normalization around the normal layer.\n",
        "\n",
        "Let us try to build a fully connected layer using spectral normalization.\n"
      ]
    },
    {
      "cell_type": "code",
      "execution_count": null,
      "metadata": {
        "pycharm": {
          "is_executing": false,
          "metadata": false,
          "name": "#%%\n"
        }
      },
      "outputs": [],
      "source": [
        "from ganlayers import spectral_norm  # function returns W / SN(W), normalized weight matrix using the power iteration method\n",
        "\n",
        "def dense_sn(inputs, units, name,\n",
        "             activation_fn\u003dNone,\n",
        "             use_bias\u003dTrue,\n",
        "             kernel_initializer\u003dtf.glorot_uniform_initializer(),\n",
        "             bias_initializer\u003dtf.zeros_initializer(),\n",
        "             use_gamma\u003dFalse,\n",
        "             factor\u003dNone):\n",
        "\n",
        "    input_shape \u003d inputs.get_shape().as_list()\n",
        "\n",
        "    with tf.variable_scope(name):\n",
        "        kernel \u003d tf.get_variable(\u0027kernel\u0027, shape\u003d(input_shape[-1], units), initializer\u003dkernel_initializer)  # create new weight matrix\n",
        "        outputs \u003d tf.matmul(inputs, spectral_norm(kernel, use_gamma\u003duse_gamma, factor\u003dfactor))  # apply linear transformation\n",
        "        if use_bias is True:\n",
        "            bias \u003d tf.get_variable(\u0027bias\u0027, shape\u003d(units,), initializer\u003dbias_initializer)\n",
        "            outputs \u003d tf.nn.bias_add(outputs, bias)  # add bias\n",
        "        if activation_fn is not None:\n",
        "            outputs \u003d activation_fn(outputs)  # apply non-linear activation to the output \n",
        "\n",
        "    return outputs\n"
      ]
    },
    {
      "cell_type": "markdown",
      "metadata": {
        "pycharm": {
          "metadata": false
        }
      },
      "source": [
        "\n",
        "We can now use the layer to build the discrimintor. (The layer `conv2d_sn` is implemented in a similar way as `dense_sn`.)\n"
      ]
    },
    {
      "cell_type": "code",
      "execution_count": null,
      "metadata": {
        "pycharm": {
          "metadata": false,
          "name": "#%%\n"
        }
      },
      "outputs": [],
      "source": "from ganlayers import conv2d_sn\n\n\ndef discriminator_fn_cr(x):\n    x \u003d conv2d_sn(x, 64, (3, 3), name\u003d\u0027sn_conv00\u0027, padding\u003d\u0027same\u0027)\n    x \u003d tf.nn.leaky_relu(x, 0.2)\n    x \u003d layers.BatchNormalization()(x)\n    x \u003d conv2d_sn(x, 64, (4, 4), name\u003d\u0027sn_conv01\u0027, padding\u003d\u0027same\u0027, strides\u003d(2, 2))\n    x \u003d tf.nn.leaky_relu(x, 0.2)\n    x \u003d layers.BatchNormalization()(x)\n    x \u003d conv2d_sn(x, 128, (3, 3), name\u003d\u0027sn_conv10\u0027, padding\u003d\u0027same\u0027)\n    x \u003d tf.nn.leaky_relu(x, 0.2)\n    x \u003d layers.BatchNormalization()(x)\n    x \u003d conv2d_sn(x, 128, (4, 4), name\u003d\u0027sn_conv11\u0027, padding\u003d\u0027same\u0027, strides\u003d(2, 2))\n    x \u003d tf.nn.leaky_relu(x, 0.2)\n    x \u003d layers.BatchNormalization()(x)\n    x \u003d conv2d_sn(x, 256, (3, 3), name\u003d\u0027sn_conv20\u0027, padding\u003d\u0027same\u0027)\n    x \u003d tf.nn.leaky_relu(x, 0.2)\n    x \u003d layers.Flatten()(x)\n    x \u003d dense_sn(x, 1, name\u003d\u0027output\u0027)\n    return x\n"
    },
    {
      "cell_type": "code",
      "execution_count": null,
      "metadata": {
        "pycharm": {}
      },
      "outputs": [],
      "source": "BATCH_SIZE \u003d 128\nGEN_LR \u003d 0.0001\nDIS_LR \u003d 0.0001\nGP \u003d 10\nN_CRIT \u003d 1"
    },
    {
      "cell_type": "markdown",
      "metadata": {
        "pycharm": {
          "metadata": false,
          "name": "#%% md\n"
        }
      },
      "source": [
        "After the last layer we do not need to apply an activation, hence this can be controlled using the loss provided by tf.gan.\n",
        "\n",
        "Subsequently, we can turn to build our estimator.\n",
        "Note that we need the **non saturating** loss `tfgan.losses.modified_generator_loss`, to prevent vanishing gradients.\n",
        "\n"
      ]
    },
    {
      "cell_type": "code",
      "execution_count": null,
      "metadata": {
        "pycharm": {
          "metadata": false,
          "name": "#%% \n"
        }
      },
      "outputs": [],
      "source": "gan_estimator \u003d tfgan.estimator.GANEstimator(\n    \"models/SN_GAN\",\n    generator_fn\u003dgenerator_fn_cr,\n    discriminator_fn\u003ddiscriminator_fn_cr,\n    generator_loss_fn\u003dtfgan.losses.modified_generator_loss,\n    discriminator_loss_fn\u003dtfgan.losses.modified_discriminator_loss,\n    generator_optimizer\u003dtf.train.AdamOptimizer(GEN_LR, 0.5),\n    discriminator_optimizer\u003dtf.train.AdamOptimizer(DIS_LR, 0.5),\n    get_hooks_fn\u003dtfgan.get_sequential_train_hooks(tfgan.GANTrainSteps(1, N_CRIT)),\n    config\u003dtf.estimator.RunConfig(save_summary_steps\u003d100, keep_checkpoint_max\u003d3, save_checkpoints_steps\u003d10000),\n    use_loss_summaries\u003dTrue)\n"
    },
    {
      "cell_type": "markdown",
      "metadata": {
        "pycharm": {
          "metadata": false,
          "name": "#%% md\n"
        }
      },
      "source": "Afterwards, we could train our estimator.\nBut instead we load a pretained model and plot some air shower footprints generated by our model"
    },
    {
      "cell_type": "code",
      "execution_count": null,
      "metadata": {
        "pycharm": {
          "metadata": false,
          "name": "#%%\n"
        }
      },
      "outputs": [],
      "source": [
        "gan_estimator.train(lambda: cr_batched_dataset(BATCH_SIZE, LATENT_DIM, cr_data_generator), max_steps\u003d1000)\n",
        "iter \u003d gan_estimator.predict(lambda: cr_batched_dataset(BATCH_SIZE, LATENT_DIM, cr_data_generator))\n",
        "generated \u003d []\n",
        "\n",
        "for i, gen_foot in zip(range(1000), iter):\n",
        "    generated.append(gen_foot)\n",
        "\n",
        "generated \u003d np.array(generated)    \n",
        "plot_multiple_footprints(generated)\n"
      ]
    },
    {
      "cell_type": "markdown",
      "metadata": {
        "pycharm": {
          "metadata": false,
          "name": "#%% md\n"
        }
      },
      "source": []
    },
    {
      "cell_type": "code",
      "execution_count": null,
      "metadata": {
        "pycharm": {
          "metadata": false,
          "name": "#%%\n"
        }
      },
      "outputs": [],
      "source": [
        "from plotting import plot_total_signal\n",
        "file \u003d np.load(\"data/airshower_footprints.npz\")\n",
        "data \u003d file[\u0027shower_maps\u0027][0:1000]\n",
        "\n",
        "plot_total_signal(fake\u003dnp.sum(generated, axis\u003d(3, 2, 1)), data\u003dnp.sum(\n",
        "    data, axis\u003d(3, 2, 1)))\n"
      ]
    },
    {
      "cell_type": "markdown",
      "metadata": {
        "pycharm": {
          "metadata": false,
          "name": "#%% md\n"
        }
      },
      "source": []
    },
    {
      "cell_type": "code",
      "execution_count": null,
      "metadata": {
        "pycharm": {
          "metadata": false,
          "name": "#%%\n"
        }
      },
      "outputs": [],
      "source": [
        "from plotting import plot_cell_number_histo\n",
        "\n",
        "plot_cell_number_histo(fake\u003dnp.sum(generated \u003e 0, axis\u003d(\n",
        "    3, 2, 1)), data\u003dnp.sum(data \u003e 0, axis\u003d(3, 2, 1)))\n"
      ]
    },
    {
      "cell_type": "markdown",
      "metadata": {
        "pycharm": {
          "metadata": false,
          "name": "#%% md\n"
        }
      },
      "source": "### Results\n\n![SN-GAN airshower](models/SN_GAN/airshower_SN_GAN.gif)\n\n###### Discriminator Loss \n\u003cimg src\u003d\"models/SN_GAN/loss.svg\" alt\u003d\"drawing\" width\u003d\"800\"/\u003e\n\n\n\n## Calorimeter images\n\n\n##### Differences between Spectral Normalization and Gradient Penalty\n| Wasserstein        |  Spectral Normalization           |\n| :------------- :|:-------------:|\n| constrain gradient directly  -    | uses weight normalization - |\n| non stationary training routine \"local normalization\" | relatively stable training \"global normalization\"      |\n||\n| $\\checkmark$ nearly no constrain of feature learning       | $\\times$ can reduce complexity of feature space      |\n| $\\times$ Needs $\\geq 5$ discriminator iterations| $\\checkmark$ only $1$ discriminator iteration needed    |\n| $\\times$ Needs tuning of learning rates an \"ncr\" iterations | $\\checkmark$ stable training for a wide range of parameters     |\n| $\\checkmark$ provides meaningful metric | $\\times$ do not provides meaningful metric      |\n\n\n\n\nLet us now put all together and build a combination of Spectral normalization and WGAN.\nBecause the _gradient penalty_ put a similar constraint on the critic/discriminator but on a different way than using\nspectral normalization, both techniques can be combined.\n\n### Spectral Normalization in the generator\n\nRecently, it was found that the singular values of the generator are related to the GAN performance.\n[Odena et al.](https://arxiv.org/abs/1802.08768) proposed to use Jacobian clamping to stabilize the training process.\nSince, spectral normalization is performing similar we will also use Spectral normalization in the layers of the generator.\n\n### Calorimeter images\nLet us use for this last GAN implementation a much more complicated dataset as very similar used in [Erdmann, Glombitza, Quast](https://link.springer.com/article/10.1007%2Fs41781-018-0019-7).\nFor simplicity reasons we are only using 3 layers and a single energy of 100 GeV electrons.\n\nSo let us begin to implement the datapipeline and plot some calorimeter images.\n"
    },
    {
      "cell_type": "code",
      "execution_count": null,
      "metadata": {
        "pycharm": {
          "metadata": false,
          "name": "#%%\n"
        }
      },
      "outputs": [],
      "source": [
        "import tensorflow as tf\n",
        "import numpy as np\n",
        "from plotting import plot_calo_images\n",
        "\n",
        "def calo_batched_dataset(BATCH_SIZE, LATENT_DIM, generator_fn):\n",
        "    Dataset \u003d tf.data.Dataset.from_generator(\n",
        "        lambda: generator_fn(LATENT_DIM), output_types\u003d(tf.float32, tf.float32),\n",
        "        output_shapes\u003d(tf.TensorShape((LATENT_DIM,)), tf.TensorShape((15, 15, 3))))\n",
        "    return Dataset.batch(BATCH_SIZE)\n",
        "\n",
        "\n",
        "def calo_data_generator(LATENT_DIM):\n",
        "    while True:\n",
        "        calo_ims \u003d np.load(\"data/3_layer_calorimeter_padded.npz\")[\u0027data\u0027]\n",
        "        nsamples \u003d calo_ims.shape[0]\n",
        "        calo_ims \u003d np.log10(calo_ims+1)\n",
        "        calo_ims \u003d calo_ims.astype(np.float32)\n",
        "        noise \u003d np.random.randn(nsamples, LATENT_DIM).reshape(nsamples, LATENT_DIM)\n",
        "        idx \u003d np.random.permutation(nsamples)\n",
        "        noise \u003d noise[idx]\n",
        "        calo_ims \u003d calo_ims[idx]\n",
        "        for i in range(nsamples):\n",
        "            yield (noise[i], calo_ims[i])\n",
        "\n",
        "\n",
        "import itertools\n",
        "images \u003d np.array(list(itertools.islice(calo_data_generator(1), 3)))[:, 1]\n",
        "images \u003d 10**images - 1\n",
        "plot_calo_images(images)\n"
      ]
    },
    {
      "cell_type": "markdown",
      "metadata": {
        "pycharm": {
          "metadata": false,
          "name": "#%% md\n"
        }
      },
      "source": []
    },
    {
      "cell_type": "code",
      "execution_count": null,
      "metadata": {
        "pycharm": {
          "metadata": false,
          "name": "#%%\n"
        }
      },
      "outputs": [],
      "source": "layers \u003d tf.layers\ntfgan \u003d tf.contrib.gan\nfrom ganlayers import conv2d_transpose_sn, conv2d_sn, dense_sn\nLATENT_DIM\u003d64\n\ndef generator_fn(x, latent_dim\u003dLATENT_DIM):\n    print(\"input gen\", x)\n    x \u003d layers.Dense(3 * 3 * 256, activation\u003d\u0027relu\u0027)(x)  #\n    x \u003d tf.reshape(x, shape\u003d[BATCH_SIZE, 3, 3, 256])\n    x \u003d conv2d_transpose_sn(x, 256, (4, 4), strides\u003d(2, 2), padding\u003d\u0027same\u0027, name\u003d\u0027sn_conv_gen_transposed01\u0027, activation\u003dtf.nn.relu)\n    x \u003d layers.BatchNormalization()(x)\n    x \u003d conv2d_transpose_sn(x, 128, (3, 3), strides\u003d(2, 2), padding\u003d\u0027valid\u0027, name\u003d\u0027sn_conv_gen_transposed02\u0027, activation\u003dtf.nn.relu)\n    x \u003d layers.BatchNormalization()(x)\n    x \u003d conv2d_transpose_sn(x, 64, (3, 3), padding\u003d\u0027valid\u0027, name\u003d\u0027sn_conv_gen_transposed03\u0027, activation\u003dtf.nn.relu)\n    x \u003d layers.BatchNormalization()(x)\n    x \u003d conv2d_sn(x, 3, (3, 3), name\u003d\"sn_gen_conv01\", padding\u003d\u0027same\u0027, kernel_initializer\u003dtf.initializers.random_uniform(minval\u003d0, maxval\u003d2.), activation\u003dtf.nn.relu)\n    return x\n"
    },
    {
      "cell_type": "markdown",
      "metadata": {
        "pycharm": {
          "metadata": false,
          "name": "#%% md\n"
        }
      },
      "source": "In the generator we make use of spectral normalization and batch normalization.\nNote, that we again uses the initialization trick in the last layer of the generator to overcome dying ReLUs and sparse gradients which can lead to a collapse of the training.."
    },
    {
      "cell_type": "code",
      "execution_count": null,
      "metadata": {
        "pycharm": {
          "metadata": false,
          "name": "#%%\n"
        }
      },
      "outputs": [],
      "source": [
        "def discriminator_fn(x, drop_rate\u003d0.25):\n",
        "    \"\"\" Discriminator network \"\"\"\n",
        "    print(\"input dis\", x)\n",
        "    x \u003d conv2d_sn(x, 64, (3, 3), name\u003d\"sn_conv01\", padding\u003d\u0027same\u0027)\n",
        "    x \u003d tf.contrib.layers.layer_norm(x)\n",
        "    x \u003d tf.nn.leaky_relu(x, 0.2)\n",
        "    x \u003d conv2d_sn(x, 64, (5, 5), name\u003d\"sn_conv02\", padding\u003d\u0027same\u0027, strides\u003d(2, 2))\n",
        "    x \u003d tf.contrib.layers.layer_norm(x)\n",
        "    x \u003d tf.nn.leaky_relu(x, 0.2)\n",
        "    x \u003d conv2d_sn(x, 128, (3, 3), name\u003d\"sn_conv03\", padding\u003d\u0027same\u0027)\n",
        "    x \u003d tf.contrib.layers.layer_norm(x)\n",
        "    x \u003d tf.nn.leaky_relu(x, 0.2)\n",
        "    x \u003d conv2d_sn(x, 128, (4, 4), name\u003d\"sn_conv04\", padding\u003d\u0027same\u0027, strides\u003d(2, 2))\n",
        "    x \u003d tf.contrib.layers.layer_norm(x)\n",
        "    x \u003d tf.nn.leaky_relu(x, 0.2)\n",
        "    x \u003d conv2d_sn(x, 256, (3, 3), name\u003d\"sn_conv05\", padding\u003d\u0027same\u0027)\n",
        "    x \u003d tf.contrib.layers.layer_norm(x)\n",
        "    x \u003d tf.nn.leaky_relu(x, 0.2)\n",
        "    x \u003d conv2d_sn(x, 512, (3, 3), name\u003d\"sn_conv06\", padding\u003d\u0027same\u0027)\n",
        "    x \u003d tf.contrib.layers.layer_norm(x)\n",
        "    x \u003d tf.nn.leaky_relu(x, 0.2)\n",
        "    x \u003d layers.Flatten()(x)\n",
        "    x \u003d dense_sn(x, 1, name\u003d\u0027sn_dense01\u0027)\n",
        "    return x\n"
      ]
    },
    {
      "cell_type": "markdown",
      "metadata": {
        "pycharm": {
          "metadata": false
        }
      },
      "source": [
        "After we successfully implemented our generator and critic network, we need to implement the Wasserstein loss with gradient penalty\n"
      ]
    },
    {
      "cell_type": "code",
      "execution_count": null,
      "metadata": {
        "pycharm": {
          "metadata": false,
          "name": "#%%\n"
        }
      },
      "outputs": [],
      "source": [
        "def discriminator_loss(model, add_summaries\u003dTrue):\n",
        "\n",
        "    loss \u003d tf.contrib.gan.losses.wasserstein_discriminator_loss(model, add_summaries\u003dadd_summaries)\n",
        "    gp_loss \u003d GP * tf.contrib.gan.losses.wasserstein_gradient_penalty(model, epsilon\u003d1e-10, one_sided\u003dTrue, add_summaries\u003dadd_summaries)\n",
        "    loss +\u003d gp_loss\n",
        "\n",
        "    if add_summaries:\n",
        "        tf.summary.scalar(\u0027discriminator_loss\u0027, loss)\n",
        "\n",
        "    return loss\n",
        " "
      ]
    },
    {
      "cell_type": "markdown",
      "metadata": {
        "pycharm": {
          "metadata": false,
          "name": "#%% md\n"
        }
      },
      "source": "To start generate calorimeter samples let us build our framework using the GANEstimator and set the training parameters"
    },
    {
      "cell_type": "code",
      "execution_count": null,
      "metadata": {
        "pycharm": {
          "metadata": false,
          "name": "#%% \n"
        }
      },
      "outputs": [],
      "source": [
        "BATCH_SIZE \u003d 64\n",
        "GEN_LR \u003d 0.0001\n",
        "DIS_LR \u003d 0.0001\n",
        "ITER \u003d 1000\n",
        "LOG_DIR \u003d \".\"\n",
        "GP \u003d 10\n",
        "N_CRIT \u003d 5\n",
        "\n",
        "gan_estimator \u003d tfgan.estimator.GANEstimator(\n",
        "    \"models/WGAN_SN\",\n",
        "    generator_fn\u003dgenerator_fn,\n",
        "    discriminator_fn\u003ddiscriminator_fn,\n",
        "    generator_loss_fn\u003dtfgan.losses.wasserstein_generator_loss,\n",
        "    discriminator_loss_fn\u003ddiscriminator_loss,\n",
        "    generator_optimizer\u003dtf.train.AdamOptimizer(GEN_LR, 0.5, 0.9),\n",
        "    discriminator_optimizer\u003dtf.train.AdamOptimizer(DIS_LR, 0.5, 0.9),\n",
        "    get_hooks_fn\u003dtfgan.get_sequential_train_hooks(tfgan.GANTrainSteps(1, N_CRIT)),\n",
        "    config\u003dtf.estimator.RunConfig(save_summary_steps\u003d100, keep_checkpoint_max\u003d3, save_checkpoints_steps\u003d10000),\n",
        "    use_loss_summaries\u003dTrue)\n"
      ]
    },
    {
      "cell_type": "markdown",
      "metadata": {
        "pycharm": {
          "metadata": false,
          "name": "#%% md\n"
        }
      },
      "source": []
    },
    {
      "cell_type": "code",
      "execution_count": null,
      "metadata": {
        "pycharm": {
          "metadata": false,
          "name": "#%%\n"
        }
      },
      "outputs": [],
      "source": [
        "from plotting import plot_average_image, plot_calo_images\n",
        "\n",
        "calo_iter \u003d gan_estimator.predict(lambda: calo_batched_dataset(BATCH_SIZE, LATENT_DIM, calo_data_generator))\n",
        "generated_calo \u003d []\n",
        "for i, image in zip(range(3), calo_iter):\n",
        "    generated_calo.append(10**image - 1)\n",
        "generated_calo \u003d np.array(generated_calo)\n",
        "plot_calo_images(generated_calo)\n",
        "\n",
        "\n"
      ]
    },
    {
      "cell_type": "code",
      "execution_count": null,
      "metadata": {
        "pycharm": {}
      },
      "outputs": [],
      "source": [
        "generated_calo.shape"
      ]
    },
    {
      "cell_type": "markdown",
      "metadata": {
        "pycharm": {
          "metadata": false
        }
      },
      "source": []
    },
    {
      "cell_type": "code",
      "execution_count": null,
      "metadata": {
        "pycharm": {
          "metadata": false,
          "name": "#%%\n"
        }
      },
      "outputs": [],
      "source": [
        "from plotting import plot_layer_correlations\n",
        "calo_ims \u003d np.load(\"data/3_layer_calorimeter_padded.npz\")[\u0027data\u0027]\n",
        "plot_layer_correlations(np.sum(calo_ims, axis\u003d(1, 2)), datatype\u003d\u0027data\u0027)\n",
        "plot_layer_correlations(np.sum(generated_calo, axis\u003d(1, 2)), datatype\u003d\u0027generated\u0027)\n"
      ]
    },
    {
      "cell_type": "markdown",
      "metadata": {
        "pycharm": {
          "metadata": false
        }
      },
      "source": []
    },
    {
      "cell_type": "code",
      "execution_count": null,
      "metadata": {
        "pycharm": {
          "metadata": false,
          "name": "#%%\n"
        }
      },
      "outputs": [],
      "source": [
        "from plotting import plot_cell_number_histo\n",
        "\n",
        "plot_cell_number_histo(fake\u003dnp.sum(generated_calo \u003e 0, axis\u003d(1, 2, 3)), data\u003dnp.sum(calo_ims \u003e 0, axis\u003d(1, 2, 3)))\n"
      ]
    }
  ],
  "metadata": {
    "kernelspec": {
      "display_name": "Python 3",
      "language": "python",
      "name": "python3"
    },
    "language_info": {
      "codemirror_mode": {
        "name": "ipython",
        "version": 3
      },
      "file_extension": ".py",
      "mimetype": "text/x-python",
      "name": "python",
      "nbconvert_exporter": "python",
      "pygments_lexer": "ipython3",
      "version": "3.6.7"
    }
  },
  "nbformat": 4,
  "nbformat_minor": 1
}